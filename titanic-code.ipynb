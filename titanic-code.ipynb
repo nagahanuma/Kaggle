{
 "cells": [
  {
   "cell_type": "code",
   "execution_count": 1,
   "id": "45623a56",
   "metadata": {
    "_cell_guid": "b1076dfc-b9ad-4769-8c92-a6c4dae69d19",
    "_uuid": "8f2839f25d086af736a60e9eeb907d3b93b6e0e5",
    "execution": {
     "iopub.execute_input": "2023-05-09T04:22:35.914652Z",
     "iopub.status.busy": "2023-05-09T04:22:35.914040Z",
     "iopub.status.idle": "2023-05-09T04:22:35.932725Z",
     "shell.execute_reply": "2023-05-09T04:22:35.931767Z"
    },
    "papermill": {
     "duration": 0.029502,
     "end_time": "2023-05-09T04:22:35.935206",
     "exception": false,
     "start_time": "2023-05-09T04:22:35.905704",
     "status": "completed"
    },
    "tags": []
   },
   "outputs": [
    {
     "name": "stdout",
     "output_type": "stream",
     "text": [
      "/kaggle/input/titanic/train.csv\n",
      "/kaggle/input/titanic/test.csv\n",
      "/kaggle/input/titanic/gender_submission.csv\n"
     ]
    }
   ],
   "source": [
    "# This Python 3 environment comes with many helpful analytics libraries installed\n",
    "# It is defined by the kaggle/python Docker image: https://github.com/kaggle/docker-python\n",
    "# For example, here's several helpful packages to load\n",
    "\n",
    "import numpy as np # linear algebra\n",
    "import pandas as pd # data processing, CSV file I/O (e.g. pd.read_csv)\n",
    "\n",
    "# Input data files are available in the read-only \"../input/\" directory\n",
    "# For example, running this (by clicking run or pressing Shift+Enter) will list all files under the input directory\n",
    "\n",
    "import os\n",
    "for dirname, _, filenames in os.walk('/kaggle/input'):\n",
    "    for filename in filenames:\n",
    "        print(os.path.join(dirname, filename))\n",
    "\n",
    "# You can write up to 20GB to the current directory (/kaggle/working/) that gets preserved as output when you create a version using \"Save & Run All\" \n",
    "# You can also write temporary files to /kaggle/temp/, but they won't be saved outside of the current session"
   ]
  },
  {
   "cell_type": "code",
   "execution_count": 2,
   "id": "cf15971f",
   "metadata": {
    "execution": {
     "iopub.execute_input": "2023-05-09T04:22:35.947480Z",
     "iopub.status.busy": "2023-05-09T04:22:35.946846Z",
     "iopub.status.idle": "2023-05-09T04:22:35.993063Z",
     "shell.execute_reply": "2023-05-09T04:22:35.991753Z"
    },
    "papermill": {
     "duration": 0.055212,
     "end_time": "2023-05-09T04:22:35.995594",
     "exception": false,
     "start_time": "2023-05-09T04:22:35.940382",
     "status": "completed"
    },
    "tags": []
   },
   "outputs": [
    {
     "data": {
      "text/html": [
       "<div>\n",
       "<style scoped>\n",
       "    .dataframe tbody tr th:only-of-type {\n",
       "        vertical-align: middle;\n",
       "    }\n",
       "\n",
       "    .dataframe tbody tr th {\n",
       "        vertical-align: top;\n",
       "    }\n",
       "\n",
       "    .dataframe thead th {\n",
       "        text-align: right;\n",
       "    }\n",
       "</style>\n",
       "<table border=\"1\" class=\"dataframe\">\n",
       "  <thead>\n",
       "    <tr style=\"text-align: right;\">\n",
       "      <th></th>\n",
       "      <th>PassengerId</th>\n",
       "      <th>Survived</th>\n",
       "      <th>Pclass</th>\n",
       "      <th>Name</th>\n",
       "      <th>Sex</th>\n",
       "      <th>Age</th>\n",
       "      <th>SibSp</th>\n",
       "      <th>Parch</th>\n",
       "      <th>Ticket</th>\n",
       "      <th>Fare</th>\n",
       "      <th>Cabin</th>\n",
       "      <th>Embarked</th>\n",
       "    </tr>\n",
       "  </thead>\n",
       "  <tbody>\n",
       "    <tr>\n",
       "      <th>0</th>\n",
       "      <td>1</td>\n",
       "      <td>0</td>\n",
       "      <td>3</td>\n",
       "      <td>Braund, Mr. Owen Harris</td>\n",
       "      <td>male</td>\n",
       "      <td>22.0</td>\n",
       "      <td>1</td>\n",
       "      <td>0</td>\n",
       "      <td>A/5 21171</td>\n",
       "      <td>7.2500</td>\n",
       "      <td>NaN</td>\n",
       "      <td>S</td>\n",
       "    </tr>\n",
       "    <tr>\n",
       "      <th>1</th>\n",
       "      <td>2</td>\n",
       "      <td>1</td>\n",
       "      <td>1</td>\n",
       "      <td>Cumings, Mrs. John Bradley (Florence Briggs Th...</td>\n",
       "      <td>female</td>\n",
       "      <td>38.0</td>\n",
       "      <td>1</td>\n",
       "      <td>0</td>\n",
       "      <td>PC 17599</td>\n",
       "      <td>71.2833</td>\n",
       "      <td>C85</td>\n",
       "      <td>C</td>\n",
       "    </tr>\n",
       "    <tr>\n",
       "      <th>2</th>\n",
       "      <td>3</td>\n",
       "      <td>1</td>\n",
       "      <td>3</td>\n",
       "      <td>Heikkinen, Miss. Laina</td>\n",
       "      <td>female</td>\n",
       "      <td>26.0</td>\n",
       "      <td>0</td>\n",
       "      <td>0</td>\n",
       "      <td>STON/O2. 3101282</td>\n",
       "      <td>7.9250</td>\n",
       "      <td>NaN</td>\n",
       "      <td>S</td>\n",
       "    </tr>\n",
       "    <tr>\n",
       "      <th>3</th>\n",
       "      <td>4</td>\n",
       "      <td>1</td>\n",
       "      <td>1</td>\n",
       "      <td>Futrelle, Mrs. Jacques Heath (Lily May Peel)</td>\n",
       "      <td>female</td>\n",
       "      <td>35.0</td>\n",
       "      <td>1</td>\n",
       "      <td>0</td>\n",
       "      <td>113803</td>\n",
       "      <td>53.1000</td>\n",
       "      <td>C123</td>\n",
       "      <td>S</td>\n",
       "    </tr>\n",
       "    <tr>\n",
       "      <th>4</th>\n",
       "      <td>5</td>\n",
       "      <td>0</td>\n",
       "      <td>3</td>\n",
       "      <td>Allen, Mr. William Henry</td>\n",
       "      <td>male</td>\n",
       "      <td>35.0</td>\n",
       "      <td>0</td>\n",
       "      <td>0</td>\n",
       "      <td>373450</td>\n",
       "      <td>8.0500</td>\n",
       "      <td>NaN</td>\n",
       "      <td>S</td>\n",
       "    </tr>\n",
       "  </tbody>\n",
       "</table>\n",
       "</div>"
      ],
      "text/plain": [
       "   PassengerId  Survived  Pclass  \\\n",
       "0            1         0       3   \n",
       "1            2         1       1   \n",
       "2            3         1       3   \n",
       "3            4         1       1   \n",
       "4            5         0       3   \n",
       "\n",
       "                                                Name     Sex   Age  SibSp  \\\n",
       "0                            Braund, Mr. Owen Harris    male  22.0      1   \n",
       "1  Cumings, Mrs. John Bradley (Florence Briggs Th...  female  38.0      1   \n",
       "2                             Heikkinen, Miss. Laina  female  26.0      0   \n",
       "3       Futrelle, Mrs. Jacques Heath (Lily May Peel)  female  35.0      1   \n",
       "4                           Allen, Mr. William Henry    male  35.0      0   \n",
       "\n",
       "   Parch            Ticket     Fare Cabin Embarked  \n",
       "0      0         A/5 21171   7.2500   NaN        S  \n",
       "1      0          PC 17599  71.2833   C85        C  \n",
       "2      0  STON/O2. 3101282   7.9250   NaN        S  \n",
       "3      0            113803  53.1000  C123        S  \n",
       "4      0            373450   8.0500   NaN        S  "
      ]
     },
     "execution_count": 2,
     "metadata": {},
     "output_type": "execute_result"
    }
   ],
   "source": [
    "df=pd.read_csv(\"/kaggle/input/titanic/train.csv\")\n",
    "df.head()"
   ]
  },
  {
   "cell_type": "code",
   "execution_count": 3,
   "id": "e7840f9e",
   "metadata": {
    "execution": {
     "iopub.execute_input": "2023-05-09T04:22:36.008411Z",
     "iopub.status.busy": "2023-05-09T04:22:36.007720Z",
     "iopub.status.idle": "2023-05-09T04:22:36.017954Z",
     "shell.execute_reply": "2023-05-09T04:22:36.016735Z"
    },
    "papermill": {
     "duration": 0.019612,
     "end_time": "2023-05-09T04:22:36.020530",
     "exception": false,
     "start_time": "2023-05-09T04:22:36.000918",
     "status": "completed"
    },
    "tags": []
   },
   "outputs": [
    {
     "data": {
      "text/plain": [
       "PassengerId      0\n",
       "Survived         0\n",
       "Pclass           0\n",
       "Name             0\n",
       "Sex              0\n",
       "Age            177\n",
       "SibSp            0\n",
       "Parch            0\n",
       "Ticket           0\n",
       "Fare             0\n",
       "Cabin          687\n",
       "Embarked         2\n",
       "dtype: int64"
      ]
     },
     "execution_count": 3,
     "metadata": {},
     "output_type": "execute_result"
    }
   ],
   "source": [
    "df.isnull().sum()"
   ]
  },
  {
   "cell_type": "code",
   "execution_count": 4,
   "id": "2703cc12",
   "metadata": {
    "execution": {
     "iopub.execute_input": "2023-05-09T04:22:36.033068Z",
     "iopub.status.busy": "2023-05-09T04:22:36.032629Z",
     "iopub.status.idle": "2023-05-09T04:22:36.046856Z",
     "shell.execute_reply": "2023-05-09T04:22:36.045735Z"
    },
    "papermill": {
     "duration": 0.023284,
     "end_time": "2023-05-09T04:22:36.049137",
     "exception": false,
     "start_time": "2023-05-09T04:22:36.025853",
     "status": "completed"
    },
    "tags": []
   },
   "outputs": [],
   "source": [
    "df['Age'] = df['Age'].fillna(df['Age'].mode()[0])"
   ]
  },
  {
   "cell_type": "code",
   "execution_count": 5,
   "id": "6fbece4a",
   "metadata": {
    "execution": {
     "iopub.execute_input": "2023-05-09T04:22:36.062055Z",
     "iopub.status.busy": "2023-05-09T04:22:36.061186Z",
     "iopub.status.idle": "2023-05-09T04:22:36.071619Z",
     "shell.execute_reply": "2023-05-09T04:22:36.070701Z"
    },
    "papermill": {
     "duration": 0.019147,
     "end_time": "2023-05-09T04:22:36.073825",
     "exception": false,
     "start_time": "2023-05-09T04:22:36.054678",
     "status": "completed"
    },
    "tags": []
   },
   "outputs": [],
   "source": [
    "df_x=df[[\"Pclass\",\"Sex\",\"Age\"]]\n",
    "df_y=df[[\"Survived\"]]"
   ]
  },
  {
   "cell_type": "code",
   "execution_count": 6,
   "id": "fec1b163",
   "metadata": {
    "execution": {
     "iopub.execute_input": "2023-05-09T04:22:36.087059Z",
     "iopub.status.busy": "2023-05-09T04:22:36.085811Z",
     "iopub.status.idle": "2023-05-09T04:22:37.591885Z",
     "shell.execute_reply": "2023-05-09T04:22:37.590550Z"
    },
    "papermill": {
     "duration": 1.515319,
     "end_time": "2023-05-09T04:22:37.594413",
     "exception": false,
     "start_time": "2023-05-09T04:22:36.079094",
     "status": "completed"
    },
    "tags": []
   },
   "outputs": [
    {
     "name": "stderr",
     "output_type": "stream",
     "text": [
      "/opt/conda/lib/python3.7/site-packages/pandas/core/generic.py:6619: SettingWithCopyWarning: \n",
      "A value is trying to be set on a copy of a slice from a DataFrame\n",
      "\n",
      "See the caveats in the documentation: https://pandas.pydata.org/pandas-docs/stable/user_guide/indexing.html#returning-a-view-versus-a-copy\n",
      "  return self._update_inplace(result)\n"
     ]
    }
   ],
   "source": [
    "from sklearn.ensemble import RandomForestClassifier\n",
    "from sklearn.model_selection import train_test_split\n",
    "df_x[\"Sex\"].replace(\"male\",1,inplace=True)\n",
    "df_x[\"Sex\"].replace(\"female\",0,inplace=True)\n"
   ]
  },
  {
   "cell_type": "code",
   "execution_count": 7,
   "id": "aac1d85b",
   "metadata": {
    "execution": {
     "iopub.execute_input": "2023-05-09T04:22:37.607175Z",
     "iopub.status.busy": "2023-05-09T04:22:37.606766Z",
     "iopub.status.idle": "2023-05-09T04:22:37.622767Z",
     "shell.execute_reply": "2023-05-09T04:22:37.621457Z"
    },
    "papermill": {
     "duration": 0.025813,
     "end_time": "2023-05-09T04:22:37.625615",
     "exception": false,
     "start_time": "2023-05-09T04:22:37.599802",
     "status": "completed"
    },
    "tags": []
   },
   "outputs": [
    {
     "name": "stdout",
     "output_type": "stream",
     "text": [
      "     Pclass  Sex   Age\n",
      "495       3    1  24.0\n",
      "515       1    1  47.0\n",
      "647       1    1  56.0\n",
      "762       3    1  20.0\n",
      "878       3    1  24.0\n",
      "..      ...  ...   ...\n",
      "883       2    1  28.0\n",
      "563       3    1  24.0\n",
      "94        3    1  59.0\n",
      "709       3    1  24.0\n",
      "494       3    1  21.0\n",
      "\n",
      "[668 rows x 3 columns]\n",
      "     Survived\n",
      "495         0\n",
      "515         0\n",
      "647         1\n",
      "762         1\n",
      "878         0\n",
      "..        ...\n",
      "883         0\n",
      "563         0\n",
      "94          0\n",
      "709         1\n",
      "494         0\n",
      "\n",
      "[668 rows x 1 columns]\n"
     ]
    }
   ],
   "source": [
    "tr_x,cv_x,tr_y,cv_y=train_test_split(df_x,df_y,test_size=0.25)\n",
    "print(tr_x)\n",
    "print(tr_y)"
   ]
  },
  {
   "cell_type": "code",
   "execution_count": 8,
   "id": "4b969721",
   "metadata": {
    "execution": {
     "iopub.execute_input": "2023-05-09T04:22:37.639052Z",
     "iopub.status.busy": "2023-05-09T04:22:37.638629Z",
     "iopub.status.idle": "2023-05-09T04:22:37.835910Z",
     "shell.execute_reply": "2023-05-09T04:22:37.834460Z"
    },
    "papermill": {
     "duration": 0.207049,
     "end_time": "2023-05-09T04:22:37.838633",
     "exception": false,
     "start_time": "2023-05-09T04:22:37.631584",
     "status": "completed"
    },
    "tags": []
   },
   "outputs": [
    {
     "name": "stderr",
     "output_type": "stream",
     "text": [
      "/opt/conda/lib/python3.7/site-packages/ipykernel_launcher.py:2: DataConversionWarning: A column-vector y was passed when a 1d array was expected. Please change the shape of y to (n_samples,), for example using ravel().\n",
      "  \n"
     ]
    },
    {
     "data": {
      "text/plain": [
       "RandomForestClassifier()"
      ]
     },
     "execution_count": 8,
     "metadata": {},
     "output_type": "execute_result"
    }
   ],
   "source": [
    "rf=RandomForestClassifier()\n",
    "rf.fit(tr_x,tr_y)"
   ]
  },
  {
   "cell_type": "code",
   "execution_count": 9,
   "id": "3b9e5b0b",
   "metadata": {
    "execution": {
     "iopub.execute_input": "2023-05-09T04:22:37.853527Z",
     "iopub.status.busy": "2023-05-09T04:22:37.853052Z",
     "iopub.status.idle": "2023-05-09T04:22:37.883141Z",
     "shell.execute_reply": "2023-05-09T04:22:37.881490Z"
    },
    "papermill": {
     "duration": 0.041321,
     "end_time": "2023-05-09T04:22:37.886400",
     "exception": false,
     "start_time": "2023-05-09T04:22:37.845079",
     "status": "completed"
    },
    "tags": []
   },
   "outputs": [
    {
     "name": "stdout",
     "output_type": "stream",
     "text": [
      "78.02690582959642\n"
     ]
    }
   ],
   "source": [
    "acc=rf.score(cv_x,cv_y)\n",
    "print(acc*100)"
   ]
  },
  {
   "cell_type": "code",
   "execution_count": 10,
   "id": "6fb71d4a",
   "metadata": {
    "execution": {
     "iopub.execute_input": "2023-05-09T04:22:37.905122Z",
     "iopub.status.busy": "2023-05-09T04:22:37.904040Z",
     "iopub.status.idle": "2023-05-09T04:22:37.939710Z",
     "shell.execute_reply": "2023-05-09T04:22:37.938445Z"
    },
    "papermill": {
     "duration": 0.048941,
     "end_time": "2023-05-09T04:22:37.942993",
     "exception": false,
     "start_time": "2023-05-09T04:22:37.894052",
     "status": "completed"
    },
    "tags": []
   },
   "outputs": [
    {
     "name": "stdout",
     "output_type": "stream",
     "text": [
      "76.68161434977578\n"
     ]
    },
    {
     "name": "stderr",
     "output_type": "stream",
     "text": [
      "/opt/conda/lib/python3.7/site-packages/sklearn/utils/validation.py:993: DataConversionWarning: A column-vector y was passed when a 1d array was expected. Please change the shape of y to (n_samples, ), for example using ravel().\n",
      "  y = column_or_1d(y, warn=True)\n"
     ]
    }
   ],
   "source": [
    "from sklearn.linear_model import LogisticRegression\n",
    "lr=LogisticRegression()\n",
    "lr.fit(tr_x,tr_y)\n",
    "acc1=lr.score(cv_x,cv_y)\n",
    "print(acc1*100)"
   ]
  },
  {
   "cell_type": "code",
   "execution_count": 11,
   "id": "b488a46e",
   "metadata": {
    "execution": {
     "iopub.execute_input": "2023-05-09T04:22:37.963072Z",
     "iopub.status.busy": "2023-05-09T04:22:37.962633Z",
     "iopub.status.idle": "2023-05-09T04:22:37.990826Z",
     "shell.execute_reply": "2023-05-09T04:22:37.989481Z"
    },
    "papermill": {
     "duration": 0.041781,
     "end_time": "2023-05-09T04:22:37.993708",
     "exception": false,
     "start_time": "2023-05-09T04:22:37.951927",
     "status": "completed"
    },
    "tags": []
   },
   "outputs": [
    {
     "data": {
      "text/html": [
       "<div>\n",
       "<style scoped>\n",
       "    .dataframe tbody tr th:only-of-type {\n",
       "        vertical-align: middle;\n",
       "    }\n",
       "\n",
       "    .dataframe tbody tr th {\n",
       "        vertical-align: top;\n",
       "    }\n",
       "\n",
       "    .dataframe thead th {\n",
       "        text-align: right;\n",
       "    }\n",
       "</style>\n",
       "<table border=\"1\" class=\"dataframe\">\n",
       "  <thead>\n",
       "    <tr style=\"text-align: right;\">\n",
       "      <th></th>\n",
       "      <th>PassengerId</th>\n",
       "      <th>Pclass</th>\n",
       "      <th>Name</th>\n",
       "      <th>Sex</th>\n",
       "      <th>Age</th>\n",
       "      <th>SibSp</th>\n",
       "      <th>Parch</th>\n",
       "      <th>Ticket</th>\n",
       "      <th>Fare</th>\n",
       "      <th>Cabin</th>\n",
       "      <th>Embarked</th>\n",
       "    </tr>\n",
       "  </thead>\n",
       "  <tbody>\n",
       "    <tr>\n",
       "      <th>0</th>\n",
       "      <td>892</td>\n",
       "      <td>3</td>\n",
       "      <td>Kelly, Mr. James</td>\n",
       "      <td>male</td>\n",
       "      <td>34.5</td>\n",
       "      <td>0</td>\n",
       "      <td>0</td>\n",
       "      <td>330911</td>\n",
       "      <td>7.8292</td>\n",
       "      <td>NaN</td>\n",
       "      <td>Q</td>\n",
       "    </tr>\n",
       "    <tr>\n",
       "      <th>1</th>\n",
       "      <td>893</td>\n",
       "      <td>3</td>\n",
       "      <td>Wilkes, Mrs. James (Ellen Needs)</td>\n",
       "      <td>female</td>\n",
       "      <td>47.0</td>\n",
       "      <td>1</td>\n",
       "      <td>0</td>\n",
       "      <td>363272</td>\n",
       "      <td>7.0000</td>\n",
       "      <td>NaN</td>\n",
       "      <td>S</td>\n",
       "    </tr>\n",
       "    <tr>\n",
       "      <th>2</th>\n",
       "      <td>894</td>\n",
       "      <td>2</td>\n",
       "      <td>Myles, Mr. Thomas Francis</td>\n",
       "      <td>male</td>\n",
       "      <td>62.0</td>\n",
       "      <td>0</td>\n",
       "      <td>0</td>\n",
       "      <td>240276</td>\n",
       "      <td>9.6875</td>\n",
       "      <td>NaN</td>\n",
       "      <td>Q</td>\n",
       "    </tr>\n",
       "    <tr>\n",
       "      <th>3</th>\n",
       "      <td>895</td>\n",
       "      <td>3</td>\n",
       "      <td>Wirz, Mr. Albert</td>\n",
       "      <td>male</td>\n",
       "      <td>27.0</td>\n",
       "      <td>0</td>\n",
       "      <td>0</td>\n",
       "      <td>315154</td>\n",
       "      <td>8.6625</td>\n",
       "      <td>NaN</td>\n",
       "      <td>S</td>\n",
       "    </tr>\n",
       "    <tr>\n",
       "      <th>4</th>\n",
       "      <td>896</td>\n",
       "      <td>3</td>\n",
       "      <td>Hirvonen, Mrs. Alexander (Helga E Lindqvist)</td>\n",
       "      <td>female</td>\n",
       "      <td>22.0</td>\n",
       "      <td>1</td>\n",
       "      <td>1</td>\n",
       "      <td>3101298</td>\n",
       "      <td>12.2875</td>\n",
       "      <td>NaN</td>\n",
       "      <td>S</td>\n",
       "    </tr>\n",
       "  </tbody>\n",
       "</table>\n",
       "</div>"
      ],
      "text/plain": [
       "   PassengerId  Pclass                                          Name     Sex  \\\n",
       "0          892       3                              Kelly, Mr. James    male   \n",
       "1          893       3              Wilkes, Mrs. James (Ellen Needs)  female   \n",
       "2          894       2                     Myles, Mr. Thomas Francis    male   \n",
       "3          895       3                              Wirz, Mr. Albert    male   \n",
       "4          896       3  Hirvonen, Mrs. Alexander (Helga E Lindqvist)  female   \n",
       "\n",
       "    Age  SibSp  Parch   Ticket     Fare Cabin Embarked  \n",
       "0  34.5      0      0   330911   7.8292   NaN        Q  \n",
       "1  47.0      1      0   363272   7.0000   NaN        S  \n",
       "2  62.0      0      0   240276   9.6875   NaN        Q  \n",
       "3  27.0      0      0   315154   8.6625   NaN        S  \n",
       "4  22.0      1      1  3101298  12.2875   NaN        S  "
      ]
     },
     "execution_count": 11,
     "metadata": {},
     "output_type": "execute_result"
    }
   ],
   "source": [
    "test=pd.read_csv(\"/kaggle/input/titanic/test.csv\")\n",
    "test.head()"
   ]
  },
  {
   "cell_type": "code",
   "execution_count": 12,
   "id": "b14a8642",
   "metadata": {
    "execution": {
     "iopub.execute_input": "2023-05-09T04:22:38.008507Z",
     "iopub.status.busy": "2023-05-09T04:22:38.008036Z",
     "iopub.status.idle": "2023-05-09T04:22:38.024088Z",
     "shell.execute_reply": "2023-05-09T04:22:38.023083Z"
    },
    "papermill": {
     "duration": 0.026475,
     "end_time": "2023-05-09T04:22:38.026624",
     "exception": false,
     "start_time": "2023-05-09T04:22:38.000149",
     "status": "completed"
    },
    "tags": []
   },
   "outputs": [
    {
     "data": {
      "text/html": [
       "<div>\n",
       "<style scoped>\n",
       "    .dataframe tbody tr th:only-of-type {\n",
       "        vertical-align: middle;\n",
       "    }\n",
       "\n",
       "    .dataframe tbody tr th {\n",
       "        vertical-align: top;\n",
       "    }\n",
       "\n",
       "    .dataframe thead th {\n",
       "        text-align: right;\n",
       "    }\n",
       "</style>\n",
       "<table border=\"1\" class=\"dataframe\">\n",
       "  <thead>\n",
       "    <tr style=\"text-align: right;\">\n",
       "      <th></th>\n",
       "      <th>Pclass</th>\n",
       "      <th>Sex</th>\n",
       "      <th>Age</th>\n",
       "    </tr>\n",
       "  </thead>\n",
       "  <tbody>\n",
       "    <tr>\n",
       "      <th>0</th>\n",
       "      <td>3</td>\n",
       "      <td>male</td>\n",
       "      <td>34.5</td>\n",
       "    </tr>\n",
       "    <tr>\n",
       "      <th>1</th>\n",
       "      <td>3</td>\n",
       "      <td>female</td>\n",
       "      <td>47.0</td>\n",
       "    </tr>\n",
       "    <tr>\n",
       "      <th>2</th>\n",
       "      <td>2</td>\n",
       "      <td>male</td>\n",
       "      <td>62.0</td>\n",
       "    </tr>\n",
       "    <tr>\n",
       "      <th>3</th>\n",
       "      <td>3</td>\n",
       "      <td>male</td>\n",
       "      <td>27.0</td>\n",
       "    </tr>\n",
       "    <tr>\n",
       "      <th>4</th>\n",
       "      <td>3</td>\n",
       "      <td>female</td>\n",
       "      <td>22.0</td>\n",
       "    </tr>\n",
       "  </tbody>\n",
       "</table>\n",
       "</div>"
      ],
      "text/plain": [
       "   Pclass     Sex   Age\n",
       "0       3    male  34.5\n",
       "1       3  female  47.0\n",
       "2       2    male  62.0\n",
       "3       3    male  27.0\n",
       "4       3  female  22.0"
      ]
     },
     "execution_count": 12,
     "metadata": {},
     "output_type": "execute_result"
    }
   ],
   "source": [
    "test['Age']=test['Age'].fillna(test['Age'].mode()[0])\n",
    "test_x=test[[\"Pclass\",\"Sex\",\"Age\"]]\n",
    "test_x.head()"
   ]
  },
  {
   "cell_type": "code",
   "execution_count": 13,
   "id": "3b73e0a2",
   "metadata": {
    "execution": {
     "iopub.execute_input": "2023-05-09T04:22:38.043118Z",
     "iopub.status.busy": "2023-05-09T04:22:38.041076Z",
     "iopub.status.idle": "2023-05-09T04:22:38.061005Z",
     "shell.execute_reply": "2023-05-09T04:22:38.059533Z"
    },
    "papermill": {
     "duration": 0.031336,
     "end_time": "2023-05-09T04:22:38.064570",
     "exception": false,
     "start_time": "2023-05-09T04:22:38.033234",
     "status": "completed"
    },
    "tags": []
   },
   "outputs": [
    {
     "name": "stderr",
     "output_type": "stream",
     "text": [
      "/opt/conda/lib/python3.7/site-packages/pandas/core/generic.py:6619: SettingWithCopyWarning: \n",
      "A value is trying to be set on a copy of a slice from a DataFrame\n",
      "\n",
      "See the caveats in the documentation: https://pandas.pydata.org/pandas-docs/stable/user_guide/indexing.html#returning-a-view-versus-a-copy\n",
      "  return self._update_inplace(result)\n"
     ]
    },
    {
     "data": {
      "text/html": [
       "<div>\n",
       "<style scoped>\n",
       "    .dataframe tbody tr th:only-of-type {\n",
       "        vertical-align: middle;\n",
       "    }\n",
       "\n",
       "    .dataframe tbody tr th {\n",
       "        vertical-align: top;\n",
       "    }\n",
       "\n",
       "    .dataframe thead th {\n",
       "        text-align: right;\n",
       "    }\n",
       "</style>\n",
       "<table border=\"1\" class=\"dataframe\">\n",
       "  <thead>\n",
       "    <tr style=\"text-align: right;\">\n",
       "      <th></th>\n",
       "      <th>Pclass</th>\n",
       "      <th>Sex</th>\n",
       "      <th>Age</th>\n",
       "    </tr>\n",
       "  </thead>\n",
       "  <tbody>\n",
       "    <tr>\n",
       "      <th>0</th>\n",
       "      <td>3</td>\n",
       "      <td>1</td>\n",
       "      <td>34.5</td>\n",
       "    </tr>\n",
       "    <tr>\n",
       "      <th>1</th>\n",
       "      <td>3</td>\n",
       "      <td>0</td>\n",
       "      <td>47.0</td>\n",
       "    </tr>\n",
       "    <tr>\n",
       "      <th>2</th>\n",
       "      <td>2</td>\n",
       "      <td>1</td>\n",
       "      <td>62.0</td>\n",
       "    </tr>\n",
       "    <tr>\n",
       "      <th>3</th>\n",
       "      <td>3</td>\n",
       "      <td>1</td>\n",
       "      <td>27.0</td>\n",
       "    </tr>\n",
       "    <tr>\n",
       "      <th>4</th>\n",
       "      <td>3</td>\n",
       "      <td>0</td>\n",
       "      <td>22.0</td>\n",
       "    </tr>\n",
       "  </tbody>\n",
       "</table>\n",
       "</div>"
      ],
      "text/plain": [
       "   Pclass  Sex   Age\n",
       "0       3    1  34.5\n",
       "1       3    0  47.0\n",
       "2       2    1  62.0\n",
       "3       3    1  27.0\n",
       "4       3    0  22.0"
      ]
     },
     "execution_count": 13,
     "metadata": {},
     "output_type": "execute_result"
    }
   ],
   "source": [
    "test_x[\"Sex\"].replace(\"male\",1,inplace=True)\n",
    "test_x[\"Sex\"].replace(\"female\",0,inplace=True)\n",
    "test_x.head()\n"
   ]
  },
  {
   "cell_type": "code",
   "execution_count": 14,
   "id": "932348de",
   "metadata": {
    "execution": {
     "iopub.execute_input": "2023-05-09T04:22:38.085764Z",
     "iopub.status.busy": "2023-05-09T04:22:38.084663Z",
     "iopub.status.idle": "2023-05-09T04:22:38.116672Z",
     "shell.execute_reply": "2023-05-09T04:22:38.115447Z"
    },
    "papermill": {
     "duration": 0.046055,
     "end_time": "2023-05-09T04:22:38.120680",
     "exception": false,
     "start_time": "2023-05-09T04:22:38.074625",
     "status": "completed"
    },
    "tags": []
   },
   "outputs": [
    {
     "data": {
      "text/plain": [
       "array([0, 0, 1, 0, 0, 0, 0, 0, 1, 0, 0, 0, 1, 1, 1, 1, 0, 0, 1, 0, 0, 0,\n",
       "       1, 0, 1, 0, 1, 0, 1, 0, 0, 0, 1, 0, 0, 0, 0, 0, 0, 0, 0, 0, 0, 1,\n",
       "       1, 0, 0, 0, 1, 1, 0, 0, 1, 1, 0, 0, 0, 0, 0, 1, 0, 0, 0, 0, 1, 1,\n",
       "       1, 0, 0, 1, 1, 0, 0, 0, 1, 1, 0, 1, 0, 1, 1, 0, 1, 0, 0, 0, 1, 1,\n",
       "       0, 1, 0, 0, 1, 0, 1, 0, 1, 0, 0, 0, 1, 0, 0, 0, 1, 0, 0, 0, 0, 0,\n",
       "       0, 0, 1, 1, 1, 0, 0, 1, 1, 1, 1, 0, 1, 0, 0, 1, 0, 0, 0, 0, 1, 0,\n",
       "       0, 0, 0, 0, 0, 0, 0, 0, 0, 1, 0, 0, 1, 0, 0, 0, 0, 0, 1, 0, 0, 1,\n",
       "       1, 0, 1, 0, 1, 1, 0, 0, 1, 0, 0, 1, 1, 0, 1, 0, 0, 0, 0, 0, 0, 1,\n",
       "       1, 0, 1, 1, 0, 0, 1, 0, 1, 0, 1, 0, 0, 0, 0, 0, 0, 0, 1, 0, 1, 1,\n",
       "       0, 0, 0, 1, 0, 1, 0, 0, 1, 0, 1, 0, 1, 0, 0, 0, 1, 1, 0, 0, 1, 0,\n",
       "       1, 0, 1, 0, 1, 0, 0, 0, 0, 0, 0, 1, 0, 0, 0, 0, 0, 0, 1, 1, 1, 1,\n",
       "       0, 0, 0, 1, 1, 0, 1, 0, 1, 0, 1, 0, 1, 0, 0, 0, 1, 0, 0, 0, 1, 1,\n",
       "       0, 0, 0, 0, 0, 0, 0, 0, 1, 0, 0, 1, 0, 0, 0, 0, 0, 1, 0, 0, 0, 0,\n",
       "       0, 0, 0, 0, 0, 0, 0, 0, 0, 0, 1, 0, 0, 0, 1, 0, 0, 0, 0, 1, 0, 1,\n",
       "       0, 0, 0, 0, 0, 1, 1, 1, 0, 0, 0, 0, 0, 0, 0, 1, 1, 0, 1, 0, 0, 0,\n",
       "       1, 0, 0, 1, 0, 0, 0, 0, 0, 0, 0, 1, 0, 1, 0, 1, 0, 1, 0, 1, 1, 0,\n",
       "       0, 0, 1, 0, 1, 0, 0, 0, 0, 1, 1, 0, 0, 0, 0, 0, 1, 0, 0, 1, 1, 0,\n",
       "       1, 1, 0, 0, 0, 0, 0, 0, 0, 1, 0, 1, 0, 0, 0, 1, 0, 1, 1, 0, 0, 1,\n",
       "       0, 1, 0, 0, 1, 0, 1, 1, 0, 0, 0, 0, 0, 0, 0, 1, 0, 0, 1, 0, 0, 0])"
      ]
     },
     "execution_count": 14,
     "metadata": {},
     "output_type": "execute_result"
    }
   ],
   "source": [
    "prd=rf.predict(test_x)\n",
    "prd"
   ]
  },
  {
   "cell_type": "code",
   "execution_count": 15,
   "id": "ea05b52f",
   "metadata": {
    "execution": {
     "iopub.execute_input": "2023-05-09T04:22:38.145693Z",
     "iopub.status.busy": "2023-05-09T04:22:38.144137Z",
     "iopub.status.idle": "2023-05-09T04:22:38.154197Z",
     "shell.execute_reply": "2023-05-09T04:22:38.153351Z"
    },
    "papermill": {
     "duration": 0.028386,
     "end_time": "2023-05-09T04:22:38.159547",
     "exception": false,
     "start_time": "2023-05-09T04:22:38.131161",
     "status": "completed"
    },
    "tags": []
   },
   "outputs": [
    {
     "name": "stderr",
     "output_type": "stream",
     "text": [
      "/opt/conda/lib/python3.7/site-packages/ipykernel_launcher.py:2: SettingWithCopyWarning: \n",
      "A value is trying to be set on a copy of a slice from a DataFrame.\n",
      "Try using .loc[row_indexer,col_indexer] = value instead\n",
      "\n",
      "See the caveats in the documentation: https://pandas.pydata.org/pandas-docs/stable/user_guide/indexing.html#returning-a-view-versus-a-copy\n",
      "  \n"
     ]
    }
   ],
   "source": [
    "op=test[['PassengerId']]\n",
    "op['Survived']=prd"
   ]
  },
  {
   "cell_type": "code",
   "execution_count": 16,
   "id": "e5c6237d",
   "metadata": {
    "execution": {
     "iopub.execute_input": "2023-05-09T04:22:38.175373Z",
     "iopub.status.busy": "2023-05-09T04:22:38.174428Z",
     "iopub.status.idle": "2023-05-09T04:22:38.185352Z",
     "shell.execute_reply": "2023-05-09T04:22:38.184395Z"
    },
    "papermill": {
     "duration": 0.021674,
     "end_time": "2023-05-09T04:22:38.188084",
     "exception": false,
     "start_time": "2023-05-09T04:22:38.166410",
     "status": "completed"
    },
    "tags": []
   },
   "outputs": [
    {
     "data": {
      "text/html": [
       "<div>\n",
       "<style scoped>\n",
       "    .dataframe tbody tr th:only-of-type {\n",
       "        vertical-align: middle;\n",
       "    }\n",
       "\n",
       "    .dataframe tbody tr th {\n",
       "        vertical-align: top;\n",
       "    }\n",
       "\n",
       "    .dataframe thead th {\n",
       "        text-align: right;\n",
       "    }\n",
       "</style>\n",
       "<table border=\"1\" class=\"dataframe\">\n",
       "  <thead>\n",
       "    <tr style=\"text-align: right;\">\n",
       "      <th></th>\n",
       "      <th>PassengerId</th>\n",
       "      <th>Survived</th>\n",
       "    </tr>\n",
       "  </thead>\n",
       "  <tbody>\n",
       "    <tr>\n",
       "      <th>0</th>\n",
       "      <td>892</td>\n",
       "      <td>0</td>\n",
       "    </tr>\n",
       "    <tr>\n",
       "      <th>1</th>\n",
       "      <td>893</td>\n",
       "      <td>0</td>\n",
       "    </tr>\n",
       "    <tr>\n",
       "      <th>2</th>\n",
       "      <td>894</td>\n",
       "      <td>1</td>\n",
       "    </tr>\n",
       "    <tr>\n",
       "      <th>3</th>\n",
       "      <td>895</td>\n",
       "      <td>0</td>\n",
       "    </tr>\n",
       "    <tr>\n",
       "      <th>4</th>\n",
       "      <td>896</td>\n",
       "      <td>0</td>\n",
       "    </tr>\n",
       "  </tbody>\n",
       "</table>\n",
       "</div>"
      ],
      "text/plain": [
       "   PassengerId  Survived\n",
       "0          892         0\n",
       "1          893         0\n",
       "2          894         1\n",
       "3          895         0\n",
       "4          896         0"
      ]
     },
     "execution_count": 16,
     "metadata": {},
     "output_type": "execute_result"
    }
   ],
   "source": [
    "op.head()"
   ]
  },
  {
   "cell_type": "code",
   "execution_count": 17,
   "id": "d4a6b860",
   "metadata": {
    "execution": {
     "iopub.execute_input": "2023-05-09T04:22:38.204521Z",
     "iopub.status.busy": "2023-05-09T04:22:38.203636Z",
     "iopub.status.idle": "2023-05-09T04:22:38.215461Z",
     "shell.execute_reply": "2023-05-09T04:22:38.214404Z"
    },
    "papermill": {
     "duration": 0.023217,
     "end_time": "2023-05-09T04:22:38.218277",
     "exception": false,
     "start_time": "2023-05-09T04:22:38.195060",
     "status": "completed"
    },
    "tags": []
   },
   "outputs": [],
   "source": [
    "op.to_csv(\"Submmission.csv\",index=False)"
   ]
  }
 ],
 "metadata": {
  "kernelspec": {
   "display_name": "Python 3",
   "language": "python",
   "name": "python3"
  },
  "language_info": {
   "codemirror_mode": {
    "name": "ipython",
    "version": 3
   },
   "file_extension": ".py",
   "mimetype": "text/x-python",
   "name": "python",
   "nbconvert_exporter": "python",
   "pygments_lexer": "ipython3",
   "version": "3.7.12"
  },
  "papermill": {
   "default_parameters": {},
   "duration": 14.768815,
   "end_time": "2023-05-09T04:22:39.051936",
   "environment_variables": {},
   "exception": null,
   "input_path": "__notebook__.ipynb",
   "output_path": "__notebook__.ipynb",
   "parameters": {},
   "start_time": "2023-05-09T04:22:24.283121",
   "version": "2.4.0"
  }
 },
 "nbformat": 4,
 "nbformat_minor": 5
}
